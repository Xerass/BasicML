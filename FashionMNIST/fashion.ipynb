{
 "cells": [
  {
   "cell_type": "code",
   "execution_count": 1,
   "id": "d7c6234b",
   "metadata": {},
   "outputs": [],
   "source": [
    "import torch\n",
    "from torch import nn\n",
    "from torch.utils.data import DataLoader\n",
    "from torchvision import datasets\n",
    "from torchvision.transforms import ToTensor"
   ]
  },
  {
   "cell_type": "code",
   "execution_count": 2,
   "id": "5801ae62",
   "metadata": {},
   "outputs": [],
   "source": [
    "# Download training data from open datasets.\n",
    "training_data = datasets.FashionMNIST(\n",
    "    root=\"data\",\n",
    "    train=True,\n",
    "    download=True,\n",
    "    transform=ToTensor(),\n",
    ")\n",
    "\n",
    "# Download test data from open datasets.\n",
    "test_data = datasets.FashionMNIST(\n",
    "    root=\"data\",\n",
    "    train=False,\n",
    "    download=True,\n",
    "    transform=ToTensor(),\n",
    ")"
   ]
  },
  {
   "cell_type": "code",
   "execution_count": null,
   "id": "d6076733",
   "metadata": {},
   "outputs": [
    {
     "name": "stdout",
     "output_type": "stream",
     "text": [
      "Shape of X [N, C, H, W]: torch.Size([64, 1, 28, 28])\n",
      "Shape of y: torch.Size([64]) torch.int64\n"
     ]
    }
   ],
   "source": [
    "batch_size = 64\n",
    "\n",
    "# Create data loaders.\n",
    "train_dataloader = DataLoader(training_data, batch_size=batch_size, num_workers=4, pin_memory=True)\n",
    "test_dataloader = DataLoader(test_data, batch_size=batch_size, num_workers=4, pin_memory=True)\n",
    "\n",
    "for X, y in test_dataloader:\n",
    "    print(f\"Shape of X [N, C, H, W]: {X.shape}\")\n",
    "    print(f\"Shape of y: {y.shape} {y.dtype}\")\n",
    "    break"
   ]
  },
  {
   "cell_type": "code",
   "execution_count": 4,
   "id": "0cda4a47",
   "metadata": {},
   "outputs": [
    {
     "name": "stdout",
     "output_type": "stream",
     "text": [
      "Using cuda device\n",
      "NeuralNetwork(\n",
      "  (flatten): Flatten(start_dim=1, end_dim=-1)\n",
      "  (linear_relu_stack): Sequential(\n",
      "    (0): Linear(in_features=784, out_features=512, bias=True)\n",
      "    (1): ReLU()\n",
      "    (2): Linear(in_features=512, out_features=512, bias=True)\n",
      "    (3): ReLU()\n",
      "    (4): Linear(in_features=512, out_features=10, bias=True)\n",
      "  )\n",
      ")\n"
     ]
    }
   ],
   "source": [
    "device = \"cuda\" if torch.cuda.is_available() else \"cpu\"\n",
    "print(f\"Using {device} device\")\n",
    "\n",
    "# Define model\n",
    "class NeuralNetwork(nn.Module):\n",
    "    def __init__(self):\n",
    "        super().__init__()\n",
    "        self.flatten = nn.Flatten()\n",
    "        self.linear_relu_stack = nn.Sequential(\n",
    "            nn.Linear(28*28, 512),\n",
    "            nn.ReLU(),\n",
    "            nn.Linear(512, 512),\n",
    "            nn.ReLU(),\n",
    "            nn.Linear(512, 10)\n",
    "        )\n",
    "\n",
    "    def forward(self, x):\n",
    "        x = self.flatten(x)\n",
    "        logits = self.linear_relu_stack(x)\n",
    "        return logits\n",
    "\n",
    "model = NeuralNetwork().to(device)\n",
    "print(model)"
   ]
  },
  {
   "cell_type": "code",
   "execution_count": 5,
   "id": "07cc2d8d",
   "metadata": {},
   "outputs": [],
   "source": [
    "loss_fn = nn.CrossEntropyLoss()\n",
    "optimizer = torch.optim.SGD(model.parameters(), lr=1e-3)"
   ]
  },
  {
   "cell_type": "code",
   "execution_count": 6,
   "id": "c3fc0e7b",
   "metadata": {},
   "outputs": [],
   "source": [
    "def train(dataloader, model, loss_fn, optimizer):\n",
    "    size = len(dataloader.dataset)\n",
    "    model.train()\n",
    "    for batch, (X, y) in enumerate(dataloader):\n",
    "        X, y = X.to(device), y.to(device)\n",
    "\n",
    "        # Compute prediction error\n",
    "        pred = model(X)\n",
    "        loss = loss_fn(pred, y)\n",
    "\n",
    "        # Backpropagation\n",
    "        loss.backward()\n",
    "        optimizer.step()\n",
    "        optimizer.zero_grad()\n",
    "\n",
    "        if batch % 100 == 0:\n",
    "            loss, current = loss.item(), (batch + 1) * len(X)\n",
    "            print(f\"loss: {loss:>7f}  [{current:>5d}/{size:>5d}]\")"
   ]
  },
  {
   "cell_type": "code",
   "execution_count": 7,
   "id": "7be4173f",
   "metadata": {},
   "outputs": [],
   "source": [
    "def test(dataloader, model, loss_fn):\n",
    "    size = len(dataloader.dataset)\n",
    "    num_batches = len(dataloader)\n",
    "    model.eval()\n",
    "    test_loss, correct = 0, 0\n",
    "    with torch.no_grad():\n",
    "        for X, y in dataloader:\n",
    "            X, y = X.to(device), y.to(device)\n",
    "            pred = model(X)\n",
    "            test_loss += loss_fn(pred, y).item()\n",
    "            correct += (pred.argmax(1) == y).type(torch.float).sum().item()\n",
    "    test_loss /= num_batches\n",
    "    correct /= size\n",
    "    print(f\"Test Error: \\n Accuracy: {(100*correct):>0.1f}%, Avg loss: {test_loss:>8f} \\n\")"
   ]
  },
  {
   "cell_type": "code",
   "execution_count": 8,
   "id": "e575ed3d",
   "metadata": {},
   "outputs": [
    {
     "name": "stdout",
     "output_type": "stream",
     "text": [
      "Epoch 1\n",
      "-------------------------------\n",
      "loss: 2.304660  [   64/60000]\n",
      "loss: 2.298864  [ 6464/60000]\n",
      "loss: 2.278101  [12864/60000]\n",
      "loss: 2.269380  [19264/60000]\n",
      "loss: 2.264410  [25664/60000]\n",
      "loss: 2.220582  [32064/60000]\n",
      "loss: 2.234794  [38464/60000]\n",
      "loss: 2.196723  [44864/60000]\n",
      "loss: 2.185808  [51264/60000]\n",
      "loss: 2.163723  [57664/60000]\n",
      "Test Error: \n",
      " Accuracy: 33.9%, Avg loss: 2.159187 \n",
      "\n",
      "Epoch 2\n",
      "-------------------------------\n",
      "loss: 2.165329  [   64/60000]\n",
      "loss: 2.167027  [ 6464/60000]\n",
      "loss: 2.106963  [12864/60000]\n",
      "loss: 2.124739  [19264/60000]\n",
      "loss: 2.085055  [25664/60000]\n",
      "loss: 2.012091  [32064/60000]\n",
      "loss: 2.044437  [38464/60000]\n",
      "loss: 1.961061  [44864/60000]\n",
      "loss: 1.955379  [51264/60000]\n",
      "loss: 1.898200  [57664/60000]\n",
      "Test Error: \n",
      " Accuracy: 59.5%, Avg loss: 1.895292 \n",
      "\n",
      "Epoch 3\n",
      "-------------------------------\n",
      "loss: 1.924488  [   64/60000]\n",
      "loss: 1.905490  [ 6464/60000]\n",
      "loss: 1.781900  [12864/60000]\n",
      "loss: 1.825946  [19264/60000]\n",
      "loss: 1.733082  [25664/60000]\n",
      "loss: 1.671228  [32064/60000]\n",
      "loss: 1.693453  [38464/60000]\n",
      "loss: 1.589126  [44864/60000]\n",
      "loss: 1.609393  [51264/60000]\n",
      "loss: 1.516200  [57664/60000]\n",
      "Test Error: \n",
      " Accuracy: 59.1%, Avg loss: 1.532481 \n",
      "\n",
      "Epoch 4\n",
      "-------------------------------\n",
      "loss: 1.596677  [   64/60000]\n",
      "loss: 1.568889  [ 6464/60000]\n",
      "loss: 1.412943  [12864/60000]\n",
      "loss: 1.493120  [19264/60000]\n",
      "loss: 1.385008  [25664/60000]\n",
      "loss: 1.366471  [32064/60000]\n",
      "loss: 1.385044  [38464/60000]\n",
      "loss: 1.304682  [44864/60000]\n",
      "loss: 1.338587  [51264/60000]\n",
      "loss: 1.247950  [57664/60000]\n",
      "Test Error: \n",
      " Accuracy: 61.8%, Avg loss: 1.272086 \n",
      "\n",
      "Epoch 5\n",
      "-------------------------------\n",
      "loss: 1.348083  [   64/60000]\n",
      "loss: 1.332331  [ 6464/60000]\n",
      "loss: 1.163517  [12864/60000]\n",
      "loss: 1.275460  [19264/60000]\n",
      "loss: 1.155981  [25664/60000]\n",
      "loss: 1.172013  [32064/60000]\n",
      "loss: 1.193664  [38464/60000]\n",
      "loss: 1.129104  [44864/60000]\n",
      "loss: 1.167273  [51264/60000]\n",
      "loss: 1.087562  [57664/60000]\n",
      "Test Error: \n",
      " Accuracy: 63.7%, Avg loss: 1.107542 \n",
      "\n",
      "Done!\n"
     ]
    }
   ],
   "source": [
    "epochs = 5\n",
    "for t in range(epochs):\n",
    "    print(f\"Epoch {t+1}\\n-------------------------------\")\n",
    "    train(train_dataloader, model, loss_fn, optimizer)\n",
    "    test(test_dataloader, model, loss_fn)\n",
    "print(\"Done!\")"
   ]
  }
 ],
 "metadata": {
  "kernelspec": {
   "display_name": "ML",
   "language": "python",
   "name": "python3"
  },
  "language_info": {
   "codemirror_mode": {
    "name": "ipython",
    "version": 3
   },
   "file_extension": ".py",
   "mimetype": "text/x-python",
   "name": "python",
   "nbconvert_exporter": "python",
   "pygments_lexer": "ipython3",
   "version": "3.12.10"
  }
 },
 "nbformat": 4,
 "nbformat_minor": 5
}
